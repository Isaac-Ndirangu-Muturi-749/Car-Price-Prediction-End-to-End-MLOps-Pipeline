{
 "cells": [
  {
   "cell_type": "code",
   "execution_count": 6,
   "metadata": {},
   "outputs": [
    {
     "name": "stdout",
     "output_type": "stream",
     "text": [
      "Training data shape: (86392, 19)\n",
      "Testing data shape: (21599, 19)\n"
     ]
    }
   ],
   "source": [
    "import pandas as pd\n",
    "from sklearn.model_selection import train_test_split\n",
    "from sklearn.preprocessing import StandardScaler\n",
    "\n",
    "# Load the cleaned data\n",
    "cleaned_df = pd.read_csv('../data/cleaned_car_data.csv')\n",
    "\n",
    "# Define features (X) and target variable (y)\n",
    "X = cleaned_df.drop(columns=['price'])  # Exclude 'price'\n",
    "y = cleaned_df['price']\n",
    "\n",
    "# Split the data\n",
    "X_train, X_test, y_train, y_test = train_test_split(X, y, test_size=0.2, random_state=42)\n",
    "\n",
    "# Check the shape of the splits\n",
    "print(f\"Training data shape: {X_train.shape}\")\n",
    "print(f\"Testing data shape: {X_test.shape}\")\n"
   ]
  },
  {
   "cell_type": "code",
   "execution_count": 7,
   "metadata": {},
   "outputs": [
    {
     "name": "stdout",
     "output_type": "stream",
     "text": [
      "First few rows of the scaled training data:\n",
      "[[ 0.9171049  -1.06487922  0.4380831  -1.8997133   2.4206718   3.05252791\n",
      "  -0.21935334 -0.24096514 -0.44371169 -0.21594036 -0.36700329 -0.24611195\n",
      "  -0.25485438 -0.37469737 -0.39570361 -1.1391218   1.83331115 -0.16062932\n",
      "   0.88124322]\n",
      " [-1.41870071  0.30215763 -2.09510711  1.04440611 -1.20361943 -0.32759733\n",
      "  -0.21935334 -0.24096514  2.25371569 -0.21594036 -0.36700329 -0.24611195\n",
      "  -0.25485438 -0.37469737 -0.39570361  0.87786925 -0.54546114 -0.16062932\n",
      "   0.88124322]\n",
      " [ 0.9171049  -0.96480263  0.35364342 -0.75735782 -0.84119031 -0.32759733\n",
      "  -0.21935334 -0.24096514 -0.44371169  4.63090817 -0.36700329 -0.24611195\n",
      "  -0.25485438 -0.37469737 -0.39570361  0.87786925 -0.54546114 -0.16062932\n",
      "   0.88124322]\n",
      " [ 0.9171049  -0.99095472  0.35364342  0.30141068 -1.20361943 -0.32759733\n",
      "  -0.21935334 -0.24096514 -0.44371169 -0.21594036 -0.36700329 -0.24611195\n",
      "   3.92380939 -0.37469737 -0.39570361  0.87786925 -0.54546114 -0.16062932\n",
      "   0.88124322]\n",
      " [-0.95153959  1.64271194 -1.75734841  1.1930052  -0.11633206 -0.32759733\n",
      "  -0.21935334 -0.24096514  2.25371569 -0.21594036 -0.36700329 -0.24611195\n",
      "  -0.25485438 -0.37469737 -0.39570361  0.87786925 -0.54546114 -0.16062932\n",
      "  -1.1347605 ]]\n"
     ]
    }
   ],
   "source": [
    "# Feature Scaling\n",
    "scaler = StandardScaler()\n",
    "X_train_scaled = scaler.fit_transform(X_train)\n",
    "X_test_scaled = scaler.transform(X_test)\n",
    "\n",
    "# Optional: Check the first few rows of the scaled data\n",
    "print(\"First few rows of the scaled training data:\")\n",
    "print(X_train_scaled[:5])"
   ]
  },
  {
   "cell_type": "code",
   "execution_count": 10,
   "metadata": {},
   "outputs": [
    {
     "name": "stdout",
     "output_type": "stream",
     "text": [
      "RandomForestRegressor - RMSE: 2423.3161\n",
      "GradientBoostingRegressor - RMSE: 3323.8886\n",
      "XGBRegressor - RMSE: 2426.0349\n"
     ]
    }
   ],
   "source": [
    "import warnings\n",
    "import mlflow\n",
    "import mlflow.sklearn\n",
    "from sklearn.ensemble import RandomForestRegressor, GradientBoostingRegressor\n",
    "from xgboost import XGBRegressor\n",
    "from sklearn.metrics import root_mean_squared_error\n",
    "\n",
    "# Suppress specific warnings\n",
    "warnings.filterwarnings('ignore', category=UserWarning, module='xgboost')\n",
    "warnings.filterwarnings('ignore', category=UserWarning, module='_distutils_hack')\n",
    "\n",
    "EC2_PUBLIC_DNS='ec2-16-16-217-131.eu-north-1.compute.amazonaws.com'\n",
    "mlflow.set_tracking_uri(f\"http://{EC2_PUBLIC_DNS}:5000\")\n",
    "\n",
    "# Set the MLflow experiment\n",
    "mlflow.set_experiment(\"car_price_prediction_vanilla_models\")\n",
    "\n",
    "def train_and_evaluate(model, model_name):\n",
    "    with mlflow.start_run(run_name=model_name):\n",
    "        # Train the model\n",
    "        model.fit(X_train_scaled, y_train)\n",
    "\n",
    "        # Predict on test set\n",
    "        y_pred = model.predict(X_test_scaled)\n",
    "\n",
    "        # Calculate RMSE\n",
    "        rmse = root_mean_squared_error(y_test, y_pred)\n",
    "\n",
    "        # Log parameters and metrics\n",
    "        mlflow.log_param(\"model\", model_name)\n",
    "        mlflow.log_metric(\"rmse\", rmse)\n",
    "\n",
    "        # Log the model\n",
    "        mlflow.sklearn.log_model(model, model_name)\n",
    "\n",
    "        print(f\"{model_name} - RMSE: {rmse:.4f}\")\n",
    "\n",
    "# Define models\n",
    "rf_model = RandomForestRegressor(random_state=42)\n",
    "gb_model = GradientBoostingRegressor(random_state=42)\n",
    "xgb_model = XGBRegressor(random_state=42, objective='reg:squarederror')\n",
    "\n",
    "# Train and evaluate models\n",
    "train_and_evaluate(rf_model, \"RandomForestRegressor\")\n",
    "train_and_evaluate(gb_model, \"GradientBoostingRegressor\")\n",
    "train_and_evaluate(xgb_model, \"XGBRegressor\")\n"
   ]
  },
  {
   "cell_type": "markdown",
   "metadata": {},
   "source": [
    "### Recommendations:\n",
    "\n",
    "- **XGBoost** appears to be the best model based on the metrics provided. It offers a good balance between accuracy and error metrics.\n",
    "- **Random Forest** is also a strong performer and a good alternative if you need a model that's potentially easier to tune and interpret.\n",
    "\n",
    "- Consider further hyperparameter tuning for XGBoost and Random Forest to possibly improve performance even more.\n"
   ]
  }
 ],
 "metadata": {
  "kernelspec": {
   "display_name": "Python 3",
   "language": "python",
   "name": "python3"
  },
  "language_info": {
   "codemirror_mode": {
    "name": "ipython",
    "version": 3
   },
   "file_extension": ".py",
   "mimetype": "text/x-python",
   "name": "python",
   "nbconvert_exporter": "python",
   "pygments_lexer": "ipython3",
   "version": "3.10.13"
  }
 },
 "nbformat": 4,
 "nbformat_minor": 2
}
