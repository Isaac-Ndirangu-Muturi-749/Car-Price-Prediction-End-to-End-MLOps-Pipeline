{
 "cells": [
  {
   "cell_type": "code",
   "execution_count": 2,
   "metadata": {},
   "outputs": [],
   "source": [
    "!pip install hyperopt xgboost mlflow boto3 -q\n"
   ]
  },
  {
   "cell_type": "markdown",
   "metadata": {},
   "source": [
    "This code sets up the hyperparameter tuning process using hyperopt, logs the parameters and metrics to MLflow, and runs the optimization. After running the optimization, you will be able to see the results in the MLflow UI."
   ]
  },
  {
   "cell_type": "markdown",
   "metadata": {},
   "source": [
    "### 1: Import Libraries and Suppress Warnings\n"
   ]
  },
  {
   "cell_type": "code",
   "execution_count": 6,
   "metadata": {},
   "outputs": [],
   "source": [
    "import mlflow\n",
    "import mlflow.xgboost\n",
    "import xgboost as xgb\n",
    "from hyperopt import fmin, tpe, hp, STATUS_OK, Trials\n",
    "from sklearn.metrics import mean_squared_error\n",
    "from sklearn.model_selection import train_test_split\n",
    "import pandas as pd\n",
    "import warnings\n",
    "from sklearn.preprocessing import StandardScaler\n",
    "\n",
    "# Suppress specific warnings\n",
    "warnings.filterwarnings('ignore', category=UserWarning, module='xgboost')\n",
    "warnings.filterwarnings('ignore', category=UserWarning, module='_distutils_hack')"
   ]
  },
  {
   "cell_type": "code",
   "execution_count": 8,
   "metadata": {},
   "outputs": [
    {
     "data": {
      "text/plain": [
       "<Experiment: artifact_location='s3://mlflow-artifacts-capstone-mlops/4', creation_time=1722115105130, experiment_id='4', last_update_time=1722115105130, lifecycle_stage='active', name='xgboost_hyperparameter_tuning', tags={}>"
      ]
     },
     "execution_count": 8,
     "metadata": {},
     "output_type": "execute_result"
    }
   ],
   "source": [
    "\n",
    "# Set MLflow tracking URI\n",
    "EC2_PUBLIC_DNS='ec2-16-16-217-131.eu-north-1.compute.amazonaws.com'\n",
    "mlflow.set_tracking_uri(f\"http://{EC2_PUBLIC_DNS}:5000\")\n",
    "mlflow.set_experiment(\"xgboost_hyperparameter_tuning\")\n"
   ]
  },
  {
   "cell_type": "markdown",
   "metadata": {},
   "source": [
    "### 2: Load Data and Preprocess\n"
   ]
  },
  {
   "cell_type": "code",
   "execution_count": 2,
   "metadata": {},
   "outputs": [
    {
     "data": {
      "text/html": [
       "<div>\n",
       "<style scoped>\n",
       "    .dataframe tbody tr th:only-of-type {\n",
       "        vertical-align: middle;\n",
       "    }\n",
       "\n",
       "    .dataframe tbody tr th {\n",
       "        vertical-align: top;\n",
       "    }\n",
       "\n",
       "    .dataframe thead th {\n",
       "        text-align: right;\n",
       "    }\n",
       "</style>\n",
       "<table border=\"1\" class=\"dataframe\">\n",
       "  <thead>\n",
       "    <tr style=\"text-align: right;\">\n",
       "      <th></th>\n",
       "      <th>year</th>\n",
       "      <th>price</th>\n",
       "      <th>mileage</th>\n",
       "      <th>enginesize</th>\n",
       "      <th>tax</th>\n",
       "      <th>mpg</th>\n",
       "      <th>make_bmw</th>\n",
       "      <th>make_cclass</th>\n",
       "      <th>make_focus</th>\n",
       "      <th>make_ford</th>\n",
       "      <th>make_hyundi</th>\n",
       "      <th>make_merc</th>\n",
       "      <th>make_skoda</th>\n",
       "      <th>make_toyota</th>\n",
       "      <th>make_vauxhall</th>\n",
       "      <th>make_vw</th>\n",
       "      <th>transmission_Manual</th>\n",
       "      <th>transmission_Semi-Auto</th>\n",
       "      <th>fueltype_Hybrid</th>\n",
       "      <th>fueltype_Petrol</th>\n",
       "    </tr>\n",
       "  </thead>\n",
       "  <tbody>\n",
       "    <tr>\n",
       "      <th>0</th>\n",
       "      <td>2016.0</td>\n",
       "      <td>8000.0</td>\n",
       "      <td>38852.0</td>\n",
       "      <td>1.0</td>\n",
       "      <td>145.0</td>\n",
       "      <td>54.3</td>\n",
       "      <td>False</td>\n",
       "      <td>False</td>\n",
       "      <td>True</td>\n",
       "      <td>False</td>\n",
       "      <td>False</td>\n",
       "      <td>False</td>\n",
       "      <td>False</td>\n",
       "      <td>False</td>\n",
       "      <td>False</td>\n",
       "      <td>False</td>\n",
       "      <td>True</td>\n",
       "      <td>False</td>\n",
       "      <td>False</td>\n",
       "      <td>True</td>\n",
       "    </tr>\n",
       "    <tr>\n",
       "      <th>1</th>\n",
       "      <td>2019.0</td>\n",
       "      <td>13400.0</td>\n",
       "      <td>11952.0</td>\n",
       "      <td>1.0</td>\n",
       "      <td>145.0</td>\n",
       "      <td>54.3</td>\n",
       "      <td>False</td>\n",
       "      <td>False</td>\n",
       "      <td>True</td>\n",
       "      <td>False</td>\n",
       "      <td>False</td>\n",
       "      <td>False</td>\n",
       "      <td>False</td>\n",
       "      <td>False</td>\n",
       "      <td>False</td>\n",
       "      <td>False</td>\n",
       "      <td>True</td>\n",
       "      <td>False</td>\n",
       "      <td>False</td>\n",
       "      <td>True</td>\n",
       "    </tr>\n",
       "    <tr>\n",
       "      <th>2</th>\n",
       "      <td>2019.0</td>\n",
       "      <td>14600.0</td>\n",
       "      <td>22142.0</td>\n",
       "      <td>1.5</td>\n",
       "      <td>145.0</td>\n",
       "      <td>54.3</td>\n",
       "      <td>False</td>\n",
       "      <td>False</td>\n",
       "      <td>True</td>\n",
       "      <td>False</td>\n",
       "      <td>False</td>\n",
       "      <td>False</td>\n",
       "      <td>False</td>\n",
       "      <td>False</td>\n",
       "      <td>False</td>\n",
       "      <td>False</td>\n",
       "      <td>True</td>\n",
       "      <td>False</td>\n",
       "      <td>False</td>\n",
       "      <td>True</td>\n",
       "    </tr>\n",
       "    <tr>\n",
       "      <th>3</th>\n",
       "      <td>2016.0</td>\n",
       "      <td>9450.0</td>\n",
       "      <td>14549.0</td>\n",
       "      <td>1.6</td>\n",
       "      <td>145.0</td>\n",
       "      <td>54.3</td>\n",
       "      <td>False</td>\n",
       "      <td>False</td>\n",
       "      <td>True</td>\n",
       "      <td>False</td>\n",
       "      <td>False</td>\n",
       "      <td>False</td>\n",
       "      <td>False</td>\n",
       "      <td>False</td>\n",
       "      <td>False</td>\n",
       "      <td>False</td>\n",
       "      <td>True</td>\n",
       "      <td>False</td>\n",
       "      <td>False</td>\n",
       "      <td>False</td>\n",
       "    </tr>\n",
       "    <tr>\n",
       "      <th>4</th>\n",
       "      <td>2015.0</td>\n",
       "      <td>9999.0</td>\n",
       "      <td>7010.0</td>\n",
       "      <td>1.6</td>\n",
       "      <td>145.0</td>\n",
       "      <td>54.3</td>\n",
       "      <td>False</td>\n",
       "      <td>False</td>\n",
       "      <td>True</td>\n",
       "      <td>False</td>\n",
       "      <td>False</td>\n",
       "      <td>False</td>\n",
       "      <td>False</td>\n",
       "      <td>False</td>\n",
       "      <td>False</td>\n",
       "      <td>False</td>\n",
       "      <td>True</td>\n",
       "      <td>False</td>\n",
       "      <td>False</td>\n",
       "      <td>False</td>\n",
       "    </tr>\n",
       "  </tbody>\n",
       "</table>\n",
       "</div>"
      ],
      "text/plain": [
       "     year    price  mileage  enginesize    tax   mpg  make_bmw  make_cclass   \n",
       "0  2016.0   8000.0  38852.0         1.0  145.0  54.3     False        False  \\\n",
       "1  2019.0  13400.0  11952.0         1.0  145.0  54.3     False        False   \n",
       "2  2019.0  14600.0  22142.0         1.5  145.0  54.3     False        False   \n",
       "3  2016.0   9450.0  14549.0         1.6  145.0  54.3     False        False   \n",
       "4  2015.0   9999.0   7010.0         1.6  145.0  54.3     False        False   \n",
       "\n",
       "   make_focus  make_ford  make_hyundi  make_merc  make_skoda  make_toyota   \n",
       "0        True      False        False      False       False        False  \\\n",
       "1        True      False        False      False       False        False   \n",
       "2        True      False        False      False       False        False   \n",
       "3        True      False        False      False       False        False   \n",
       "4        True      False        False      False       False        False   \n",
       "\n",
       "   make_vauxhall  make_vw  transmission_Manual  transmission_Semi-Auto   \n",
       "0          False    False                 True                   False  \\\n",
       "1          False    False                 True                   False   \n",
       "2          False    False                 True                   False   \n",
       "3          False    False                 True                   False   \n",
       "4          False    False                 True                   False   \n",
       "\n",
       "   fueltype_Hybrid  fueltype_Petrol  \n",
       "0            False             True  \n",
       "1            False             True  \n",
       "2            False             True  \n",
       "3            False            False  \n",
       "4            False            False  "
      ]
     },
     "execution_count": 2,
     "metadata": {},
     "output_type": "execute_result"
    }
   ],
   "source": [
    "import pandas as pd\n",
    "\n",
    "# Load the cleaned data\n",
    "cleaned_df = pd.read_csv('../../data/cleaned_car_data.csv')\n",
    "cleaned_df.head()"
   ]
  },
  {
   "cell_type": "code",
   "execution_count": 7,
   "metadata": {},
   "outputs": [
    {
     "name": "stdout",
     "output_type": "stream",
     "text": [
      "Training data shape: (84888, 19)\n",
      "Testing data shape: (21223, 19)\n",
      "First row of the training data:\n",
      "         year  mileage  enginesize    tax   mpg  make_bmw  make_cclass   \n",
      "71413  2020.0   4750.0         1.5  145.0  44.8     False        False  \\\n",
      "\n",
      "       make_focus  make_ford  make_hyundi  make_merc  make_skoda  make_toyota   \n",
      "71413       False      False        False      False       False        False  \\\n",
      "\n",
      "       make_vauxhall  make_vw  transmission_Manual  transmission_Semi-Auto   \n",
      "71413          False    False                 True                   False  \\\n",
      "\n",
      "       fueltype_Hybrid  fueltype_Petrol  \n",
      "71413            False             True  \n"
     ]
    }
   ],
   "source": [
    "# Load the cleaned data\n",
    "cleaned_df = pd.read_csv('../../data/cleaned_car_data.csv')\n",
    "\n",
    "# Define features (X) and target variable (y)\n",
    "X = cleaned_df.drop(columns=['price'])  # Exclude 'price'\n",
    "y = cleaned_df['price']\n",
    "\n",
    "# Split the data\n",
    "X_train, X_test, y_train, y_test = train_test_split(X, y, test_size=0.2, random_state=42)\n",
    "\n",
    "# Check the shape of the splits\n",
    "print(f\"Training data shape: {X_train.shape}\")\n",
    "print(f\"Testing data shape: {X_test.shape}\")\n",
    "\n",
    "# Optional: Check the first few rows of the scaled data\n",
    "print(\"First row of the training data:\")\n",
    "print(X_train[:1])\n"
   ]
  },
  {
   "cell_type": "markdown",
   "metadata": {},
   "source": [
    "### 3: Define Hyperparameter Space and Objective Function\n"
   ]
  },
  {
   "cell_type": "code",
   "execution_count": 10,
   "metadata": {},
   "outputs": [],
   "source": [
    "space = {\n",
    "    'max_depth': hp.quniform('max_depth', 3, 10, 1),\n",
    "    'n_estimators': hp.quniform('n_estimators', 100, 1000, 100),\n",
    "    'learning_rate': hp.uniform('learning_rate', 0.01, 0.3),\n",
    "    'subsample': hp.uniform('subsample', 0.5, 1.0),\n",
    "    'min_child_weight': hp.loguniform('min_child_weight', -1, 3),\n",
    "    'seed': 42,\n",
    "    'objective': 'reg:squarederror'\n",
    "}\n",
    "\n",
    "def objective(params):\n",
    "    with mlflow.start_run(nested=True):\n",
    "        # Convert hyperparameters to int if they are passed as floats\n",
    "        params[\"max_depth\"] = int(params[\"max_depth\"])\n",
    "        params[\"n_estimators\"] = int(params[\"n_estimators\"])\n",
    "\n",
    "        # Log hyperparameters\n",
    "        mlflow.log_params(params)\n",
    "\n",
    "        # Train the model\n",
    "        model = xgb.XGBRegressor(\n",
    "            n_estimators=params[\"n_estimators\"],\n",
    "            max_depth=params[\"max_depth\"],\n",
    "            learning_rate=params[\"learning_rate\"],\n",
    "            subsample=params[\"subsample\"],\n",
    "            seed=params[\"seed\"],\n",
    "            objective=params[\"objective\"]\n",
    "        )\n",
    "        model.fit(X_train, y_train)\n",
    "\n",
    "        # Predict and evaluate\n",
    "        y_pred = model.predict(X_test)\n",
    "        rmse = mean_squared_error(y_test, y_pred, squared=False)\n",
    "        mlflow.log_metric(\"rmse\", rmse)\n",
    "\n",
    "        # Log the model\n",
    "        mlflow.xgboost.log_model(model, \"model\")\n",
    "\n",
    "        return {'loss': rmse, 'status': STATUS_OK}\n"
   ]
  },
  {
   "cell_type": "markdown",
   "metadata": {},
   "source": [
    "### 4: Run Hyperparameter Optimization\n"
   ]
  },
  {
   "cell_type": "code",
   "execution_count": 11,
   "metadata": {},
   "outputs": [
    {
     "name": "stdout",
     "output_type": "stream",
     "text": [
      "100%|██████████| 50/50 [07:44<00:00,  9.30s/trial, best loss: 2285.035402316803]\n",
      "\n",
      "\n",
      "Best parameters: {'learning_rate': 0.09455111298980684, 'max_depth': 9.0, 'min_child_weight': 0.3730492049381335, 'n_estimators': 500.0, 'subsample': 0.9989341273723211}\n"
     ]
    }
   ],
   "source": [
    "trials = Trials()\n",
    "best_params = fmin(\n",
    "    fn=objective,\n",
    "    space=space,\n",
    "    algo=tpe.suggest,\n",
    "    max_evals=50,  # Adjust this number based on how long you want to search\n",
    "    trials=trials\n",
    ")\n",
    "\n",
    "print()\n",
    "print()\n",
    "\n",
    "print(\"Best parameters:\", best_params)\n"
   ]
  },
  {
   "cell_type": "markdown",
   "metadata": {},
   "source": []
  }
 ],
 "metadata": {
  "kernelspec": {
   "display_name": "Python 3",
   "language": "python",
   "name": "python3"
  },
  "language_info": {
   "codemirror_mode": {
    "name": "ipython",
    "version": 3
   },
   "file_extension": ".py",
   "mimetype": "text/x-python",
   "name": "python",
   "nbconvert_exporter": "python",
   "pygments_lexer": "ipython3",
   "version": "3.10.14"
  }
 },
 "nbformat": 4,
 "nbformat_minor": 2
}
