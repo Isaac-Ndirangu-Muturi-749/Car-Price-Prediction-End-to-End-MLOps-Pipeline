{
 "cells": [
  {
   "cell_type": "markdown",
   "metadata": {},
   "source": [
    "#### 2: Import Libraries\n"
   ]
  },
  {
   "cell_type": "code",
   "execution_count": 5,
   "metadata": {},
   "outputs": [],
   "source": [
    "import mlflow\n",
    "import mlflow.xgboost\n",
    "import xgboost as xgb\n",
    "from sklearn.model_selection import train_test_split\n",
    "from sklearn.metrics import root_mean_squared_error\n",
    "import pandas as pd\n",
    "from sklearn.preprocessing import StandardScaler\n"
   ]
  },
  {
   "cell_type": "markdown",
   "metadata": {},
   "source": [
    "#### 3: Set Up MLflow\n"
   ]
  },
  {
   "cell_type": "code",
   "execution_count": 3,
   "metadata": {},
   "outputs": [
    {
     "name": "stderr",
     "output_type": "stream",
     "text": [
      "2024/07/27 22:13:03 INFO mlflow.tracking.fluent: Experiment with name 'xgboost_optimized_model' does not exist. Creating a new experiment.\n"
     ]
    },
    {
     "data": {
      "text/plain": [
       "<Experiment: artifact_location='s3://mlflow-artifacts-capstone-mlops/5', creation_time=1722118383817, experiment_id='5', last_update_time=1722118383817, lifecycle_stage='active', name='xgboost_optimized_model', tags={}>"
      ]
     },
     "execution_count": 3,
     "metadata": {},
     "output_type": "execute_result"
    }
   ],
   "source": [
    "# Set MLflow tracking URI\n",
    "EC2_PUBLIC_DNS='ec2-16-16-217-131.eu-north-1.compute.amazonaws.com'\n",
    "mlflow.set_tracking_uri(f\"http://{EC2_PUBLIC_DNS}:5000\")\n",
    "\n",
    "# Set experiment name\n",
    "mlflow.set_experiment(\"xgboost_optimized_model\")\n"
   ]
  },
  {
   "cell_type": "markdown",
   "metadata": {},
   "source": [
    "#### 4: Load and Prepare Data\n"
   ]
  },
  {
   "cell_type": "code",
   "execution_count": 6,
   "metadata": {},
   "outputs": [
    {
     "name": "stdout",
     "output_type": "stream",
     "text": [
      "Training data shape: (86392, 19)\n",
      "Testing data shape: (21599, 19)\n",
      "First few rows of the scaled training data:\n",
      "[[ 0.9171049  -1.06487922  0.4380831  -1.8997133   2.4206718   3.05252791\n",
      "  -0.21935334 -0.24096514 -0.44371169 -0.21594036 -0.36700329 -0.24611195\n",
      "  -0.25485438 -0.37469737 -0.39570361 -1.1391218   1.83331115 -0.16062932\n",
      "   0.88124322]\n",
      " [-1.41870071  0.30215763 -2.09510711  1.04440611 -1.20361943 -0.32759733\n",
      "  -0.21935334 -0.24096514  2.25371569 -0.21594036 -0.36700329 -0.24611195\n",
      "  -0.25485438 -0.37469737 -0.39570361  0.87786925 -0.54546114 -0.16062932\n",
      "   0.88124322]\n",
      " [ 0.9171049  -0.96480263  0.35364342 -0.75735782 -0.84119031 -0.32759733\n",
      "  -0.21935334 -0.24096514 -0.44371169  4.63090817 -0.36700329 -0.24611195\n",
      "  -0.25485438 -0.37469737 -0.39570361  0.87786925 -0.54546114 -0.16062932\n",
      "   0.88124322]]\n"
     ]
    }
   ],
   "source": [
    "# Load the cleaned data\n",
    "cleaned_df = pd.read_csv('../data/cleaned_car_data.csv')\n",
    "\n",
    "# Define features (X) and target variable (y)\n",
    "X = cleaned_df.drop(columns=['price'])  # Exclude 'price'\n",
    "y = cleaned_df['price']\n",
    "\n",
    "# Split the data\n",
    "X_train, X_test, y_train, y_test = train_test_split(X, y, test_size=0.2, random_state=42)\n",
    "\n",
    "# Check the shape of the splits\n",
    "print(f\"Training data shape: {X_train.shape}\")\n",
    "print(f\"Testing data shape: {X_test.shape}\")\n",
    "\n",
    "# Feature Scaling\n",
    "scaler = StandardScaler()\n",
    "X_train_scaled = scaler.fit_transform(X_train)\n",
    "X_test_scaled = scaler.transform(X_test)\n",
    "\n",
    "# Optional: Check the first few rows of the scaled data\n",
    "print(\"First few rows of the scaled training data:\")\n",
    "print(X_train_scaled[:3])\n"
   ]
  },
  {
   "cell_type": "markdown",
   "metadata": {},
   "source": [
    "#### 5: Set Optimized Hyperparameters\n"
   ]
  },
  {
   "cell_type": "code",
   "execution_count": 7,
   "metadata": {},
   "outputs": [],
   "source": [
    "# Optimized hyperparameters from hyperopt\n",
    "params = {\n",
    "    'learning_rate': 0.09455111298980684,\n",
    "    'max_depth': int(9.0),\n",
    "    'min_child_weight': 0.3730492049381335,\n",
    "    'n_estimators': int(500.0),\n",
    "    'subsample': 0.9989341273723211,\n",
    "    'objective': 'reg:squarederror',\n",
    "    'eval_metric': 'rmse'\n",
    "}\n"
   ]
  },
  {
   "cell_type": "markdown",
   "metadata": {},
   "source": [
    "#### 6: Train the Model and Log with MLflow\n"
   ]
  },
  {
   "cell_type": "code",
   "execution_count": 8,
   "metadata": {},
   "outputs": [
    {
     "name": "stderr",
     "output_type": "stream",
     "text": [
      "/usr/local/python/3.10.13/lib/python3.10/site-packages/xgboost/core.py:158: UserWarning: [22:16:42] WARNING: /workspace/src/c_api/c_api.cc:1374: Saving model in the UBJSON format as default.  You can use file extension: `json`, `ubj` or `deprecated` to choose between formats.\n",
      "  warnings.warn(smsg, UserWarning)\n"
     ]
    },
    {
     "name": "stdout",
     "output_type": "stream",
     "text": [
      "RMSE: 2291.7581220397637\n"
     ]
    }
   ],
   "source": [
    "# Start an MLflow run\n",
    "with mlflow.start_run():\n",
    "    # Initialize and train the model\n",
    "    model = xgb.XGBRegressor(**params)\n",
    "    model.fit(X_train_scaled, y_train)\n",
    "\n",
    "    # Make predictions on the test set\n",
    "    y_pred = model.predict(X_test_scaled)\n",
    "\n",
    "    # Calculate the RMSE\n",
    "    rmse = root_mean_squared_error(y_test, y_pred)\n",
    "\n",
    "    # Log parameters\n",
    "    mlflow.log_params(params)\n",
    "\n",
    "    # Log the RMSE metric\n",
    "    mlflow.log_metric(\"rmse\", rmse)\n",
    "\n",
    "    # Log the model\n",
    "    mlflow.xgboost.log_model(model, artifact_path=\"xgboost_model\")\n",
    "\n",
    "    print(f\"RMSE: {rmse}\")\n"
   ]
  }
 ],
 "metadata": {
  "kernelspec": {
   "display_name": "Python 3",
   "language": "python",
   "name": "python3"
  },
  "language_info": {
   "codemirror_mode": {
    "name": "ipython",
    "version": 3
   },
   "file_extension": ".py",
   "mimetype": "text/x-python",
   "name": "python",
   "nbconvert_exporter": "python",
   "pygments_lexer": "ipython3",
   "version": "3.10.13"
  }
 },
 "nbformat": 4,
 "nbformat_minor": 2
}
