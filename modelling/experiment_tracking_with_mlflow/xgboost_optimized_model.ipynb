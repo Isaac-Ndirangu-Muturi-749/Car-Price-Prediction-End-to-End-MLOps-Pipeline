{
 "cells": [
  {
   "cell_type": "markdown",
   "metadata": {},
   "source": [
    "#### 2: Import Libraries\n"
   ]
  },
  {
   "cell_type": "code",
   "execution_count": 9,
   "metadata": {},
   "outputs": [],
   "source": [
    "import mlflow\n",
    "import mlflow.xgboost\n",
    "import xgboost as xgb\n",
    "from sklearn.model_selection import train_test_split\n",
    "from sklearn.metrics import mean_absolute_error, r2_score, mean_squared_error\n",
    "import pandas as pd\n"
   ]
  },
  {
   "cell_type": "markdown",
   "metadata": {},
   "source": [
    "#### 3: Set Up MLflow\n"
   ]
  },
  {
   "cell_type": "code",
   "execution_count": 3,
   "metadata": {},
   "outputs": [
    {
     "data": {
      "text/plain": [
       "<Experiment: artifact_location='s3://mlflow-artifacts-capstone-mlops/5', creation_time=1722118383817, experiment_id='5', last_update_time=1722118383817, lifecycle_stage='active', name='xgboost_optimized_model', tags={}>"
      ]
     },
     "execution_count": 3,
     "metadata": {},
     "output_type": "execute_result"
    }
   ],
   "source": [
    "# Set MLflow tracking URI\n",
    "EC2_PUBLIC_DNS='ec2-16-16-217-131.eu-north-1.compute.amazonaws.com'\n",
    "mlflow.set_tracking_uri(f\"http://{EC2_PUBLIC_DNS}:5000\")\n",
    "\n",
    "# Set experiment name\n",
    "mlflow.set_experiment(\"xgboost_optimized_model\")\n"
   ]
  },
  {
   "cell_type": "code",
   "execution_count": 20,
   "metadata": {},
   "outputs": [],
   "source": [
    "from dotenv import load_dotenv\n",
    "import os\n",
    "\n",
    "# Set AWS credentials as environment variables\n",
    "load_dotenv()\n",
    "\n",
    "# Retrieve AWS credentials\n",
    "aws_access_key_id = os.getenv('AWS_ACCESS_KEY_ID')\n",
    "aws_secret_access_key = os.getenv('AWS_SECRET_ACCESS_KEY')\n",
    "\n",
    "# Set AWS environment variables (if needed)\n",
    "os.environ['AWS_ACCESS_KEY_ID'] = aws_access_key_id\n",
    "os.environ['AWS_SECRET_ACCESS_KEY'] = aws_secret_access_key\n"
   ]
  },
  {
   "cell_type": "markdown",
   "metadata": {},
   "source": [
    "#### 4: Load and Prepare Data\n"
   ]
  },
  {
   "cell_type": "code",
   "execution_count": 6,
   "metadata": {},
   "outputs": [
    {
     "name": "stdout",
     "output_type": "stream",
     "text": [
      "Training data shape: (84888, 19)\n",
      "Testing data shape: (21223, 19)\n",
      "First few rows of the training data:\n",
      "         year  mileage  enginesize    tax   mpg  make_bmw  make_cclass   \n",
      "71413  2020.0   4750.0         1.5  145.0  44.8     False        False  \\\n",
      "\n",
      "       make_focus  make_ford  make_hyundi  make_merc  make_skoda  make_toyota   \n",
      "71413       False      False        False      False       False        False  \\\n",
      "\n",
      "       make_vauxhall  make_vw  transmission_Manual  transmission_Semi-Auto   \n",
      "71413          False    False                 True                   False  \\\n",
      "\n",
      "       fueltype_Hybrid  fueltype_Petrol  \n",
      "71413            False             True  \n"
     ]
    }
   ],
   "source": [
    "# Load the cleaned data\n",
    "cleaned_df = pd.read_csv('../../data/cleaned_car_data.csv')\n",
    "\n",
    "# Define features (X) and target variable (y)\n",
    "X = cleaned_df.drop(columns=['price'])  # Exclude 'price'\n",
    "y = cleaned_df['price']\n",
    "\n",
    "# Split the data\n",
    "X_train, X_test, y_train, y_test = train_test_split(X, y, test_size=0.2, random_state=42)\n",
    "\n",
    "# Check the shape of the splits\n",
    "print(f\"Training data shape: {X_train.shape}\")\n",
    "print(f\"Testing data shape: {X_test.shape}\")\n",
    "\n",
    "# Optional: Check the first few rows of the scaled data\n",
    "print(\"First few rows of the training data:\")\n",
    "print(X_train[:1])\n"
   ]
  },
  {
   "cell_type": "markdown",
   "metadata": {},
   "source": [
    "#### 5: Set Optimized Hyperparameters\n"
   ]
  },
  {
   "cell_type": "code",
   "execution_count": 7,
   "metadata": {},
   "outputs": [],
   "source": [
    "# Optimized hyperparameters from hyperopt\n",
    "params = {\n",
    "    'learning_rate': 0.09455111298980684,\n",
    "    'max_depth': int(9.0),\n",
    "    'min_child_weight': 0.3730492049381335,\n",
    "    'n_estimators': int(500.0),\n",
    "    'subsample': 0.9989341273723211,\n",
    "    'objective': 'reg:squarederror',\n",
    "    'eval_metric': 'rmse'\n",
    "}\n"
   ]
  },
  {
   "cell_type": "markdown",
   "metadata": {},
   "source": [
    "#### 6: Train the Model and Log with MLflow\n"
   ]
  },
  {
   "cell_type": "code",
   "execution_count": null,
   "metadata": {},
   "outputs": [],
   "source": [
    "# Start an MLflow run\n",
    "with mlflow.start_run():\n",
    "    # Initialize and train the model\n",
    "    model = xgb.XGBRegressor(**params)\n",
    "    model.fit(X_train, y_train)\n",
    "\n",
    "    # Make predictions on the test set\n",
    "    y_pred = model.predict(X_test)\n",
    "\n",
    "    # Calculate metrics\n",
    "    rmse = mean_squared_error(y_test, y_pred, squared=False)\n",
    "    mae = mean_absolute_error(y_test, y_pred)\n",
    "    r2 = r2_score(y_test, y_pred)\n",
    "\n",
    "    # Log parameters and metrics\n",
    "    mlflow.log_params(params)\n",
    "    mlflow.log_metric(\"rmse\", rmse)\n",
    "    mlflow.log_metric(\"mae\", mae)\n",
    "    mlflow.log_metric(\"r2_score\", r2)\n",
    "\n",
    "    # Log the model\n",
    "    signature = mlflow.models.infer_signature(X_train, y_train)\n",
    "    input_example = X_train[:1]\n",
    "    mlflow.xgboost.log_model(model, artifact_path=\"xgboost_model\", signature=signature, input_example=input_example)\n",
    "\n",
    "    print(f\"RMSE: {rmse}, MAE: {mae}, R2 Score: {r2}\")"
   ]
  },
  {
   "cell_type": "code",
   "execution_count": null,
   "metadata": {},
   "outputs": [],
   "source": []
  }
 ],
 "metadata": {
  "kernelspec": {
   "display_name": "Python 3",
   "language": "python",
   "name": "python3"
  },
  "language_info": {
   "codemirror_mode": {
    "name": "ipython",
    "version": 3
   },
   "file_extension": ".py",
   "mimetype": "text/x-python",
   "name": "python",
   "nbconvert_exporter": "python",
   "pygments_lexer": "ipython3",
   "version": "3.10.14"
  }
 },
 "nbformat": 4,
 "nbformat_minor": 2
}
