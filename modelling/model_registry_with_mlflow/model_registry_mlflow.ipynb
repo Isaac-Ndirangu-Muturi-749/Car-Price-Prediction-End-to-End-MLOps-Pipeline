{
 "cells": [
  {
   "cell_type": "code",
   "execution_count": null,
   "metadata": {},
   "outputs": [],
   "source": [
    "# s3://mlflow-artifacts-capstone-mlops/5/c23904aef6314fb499be6077aad00cb9/artifacts/xgboost_model"
   ]
  },
  {
   "cell_type": "code",
   "execution_count": 15,
   "metadata": {},
   "outputs": [],
   "source": [
    "import mlflow\n",
    "import pandas as pd\n",
    "from mlflow.tracking import MlflowClient\n",
    "from datetime import datetime\n",
    "from sklearn.metrics import root_mean_squared_error\n"
   ]
  },
  {
   "cell_type": "code",
   "execution_count": 2,
   "metadata": {},
   "outputs": [],
   "source": [
    "# Set MLflow tracking URI\n",
    "EC2_PUBLIC_DNS = 'ec2-16-16-217-131.eu-north-1.compute.amazonaws.com'\n",
    "mlflow.set_tracking_uri(f\"http://{EC2_PUBLIC_DNS}:5000\")\n"
   ]
  },
  {
   "cell_type": "code",
   "execution_count": 3,
   "metadata": {},
   "outputs": [
    {
     "name": "stderr",
     "output_type": "stream",
     "text": [
      "/usr/local/python/3.10.13/lib/python3.10/site-packages/tqdm/auto.py:21: TqdmWarning: IProgress not found. Please update jupyter and ipywidgets. See https://ipywidgets.readthedocs.io/en/stable/user_install.html\n",
      "  from .autonotebook import tqdm as notebook_tqdm\n",
      "Downloading artifacts: 100%|██████████| 5/5 [00:01<00:00,  2.67it/s]\n"
     ]
    }
   ],
   "source": [
    "# Specify the run ID\n",
    "run_id = \"c23904aef6314fb499be6077aad00cb9\"\n",
    "\n",
    "# Load model as a PyFuncModel\n",
    "logged_model = f\"runs:/{run_id}/xgboost_model\"\n",
    "loaded_model = mlflow.pyfunc.load_model(logged_model)"
   ]
  },
  {
   "cell_type": "code",
   "execution_count": 4,
   "metadata": {},
   "outputs": [
    {
     "name": "stdout",
     "output_type": "stream",
     "text": [
      "[29345.2   25230.064 25230.064 ... 27297.492 31060.291 31060.291]\n"
     ]
    }
   ],
   "source": []
  },
  {
   "cell_type": "code",
   "execution_count": 5,
   "metadata": {},
   "outputs": [],
   "source": [
    "# Initialize MlflowClient\n",
    "client = MlflowClient()\n"
   ]
  },
  {
   "cell_type": "code",
   "execution_count": 6,
   "metadata": {},
   "outputs": [
    {
     "name": "stderr",
     "output_type": "stream",
     "text": [
      "Successfully registered model 'car-price-regressor-xgboost'.\n",
      "2024/07/27 22:29:20 INFO mlflow.store.model_registry.abstract_store: Waiting up to 300 seconds for model version to finish creation. Model name: car-price-regressor-xgboost, version 1\n",
      "Created version '1' of model 'car-price-regressor-xgboost'.\n"
     ]
    },
    {
     "data": {
      "text/plain": [
       "<ModelVersion: aliases=[], creation_timestamp=1722119360050, current_stage='None', description='', last_updated_timestamp=1722119360050, name='car-price-regressor-xgboost', run_id='c23904aef6314fb499be6077aad00cb9', run_link='', source='s3://mlflow-artifacts-capstone-mlops/5/c23904aef6314fb499be6077aad00cb9/artifacts/xgboost_model', status='READY', status_message='', tags={}, user_id='', version='1'>"
      ]
     },
     "execution_count": 6,
     "metadata": {},
     "output_type": "execute_result"
    }
   ],
   "source": [
    "# Specify the run ID\n",
    "run_id = \"c23904aef6314fb499be6077aad00cb9\"\n",
    "\n",
    "# Register the model\n",
    "model_uri = f\"runs:/{run_id}/xgboost_model\"\n",
    "model_name = \"car-price-regressor-xgboost\"\n",
    "mlflow.register_model(model_uri=model_uri, name=model_name)"
   ]
  },
  {
   "cell_type": "code",
   "execution_count": 7,
   "metadata": {},
   "outputs": [
    {
     "name": "stderr",
     "output_type": "stream",
     "text": [
      "/tmp/ipykernel_68361/4173327795.py:2: FutureWarning: ``mlflow.tracking.client.MlflowClient.get_latest_versions`` is deprecated since 2.9.0. Model registry stages will be removed in a future major release. To learn more about the deprecation of model registry stages, see our migration guide here: https://mlflow.org/docs/latest/model-registry.html#migrating-from-stages\n",
      "  latest_versions = client.get_latest_versions(name=model_name)\n"
     ]
    },
    {
     "name": "stdout",
     "output_type": "stream",
     "text": [
      "version: 1, stage: None\n"
     ]
    }
   ],
   "source": [
    "# Get the latest versions of the registered model\n",
    "latest_versions = client.get_latest_versions(name=model_name)\n",
    "for version in latest_versions:\n",
    "    print(f\"version: {version.version}, stage: {version.current_stage}\")"
   ]
  },
  {
   "cell_type": "code",
   "execution_count": 8,
   "metadata": {},
   "outputs": [
    {
     "name": "stderr",
     "output_type": "stream",
     "text": [
      "/tmp/ipykernel_68361/3922651589.py:3: FutureWarning: ``mlflow.tracking.client.MlflowClient.transition_model_version_stage`` is deprecated since 2.9.0. Model registry stages will be removed in a future major release. To learn more about the deprecation of model registry stages, see our migration guide here: https://mlflow.org/docs/latest/model-registry.html#migrating-from-stages\n",
      "  client.transition_model_version_stage(\n"
     ]
    },
    {
     "data": {
      "text/plain": [
       "<ModelVersion: aliases=[], creation_timestamp=1722119360050, current_stage='Staging', description='', last_updated_timestamp=1722119371052, name='car-price-regressor-xgboost', run_id='c23904aef6314fb499be6077aad00cb9', run_link='', source='s3://mlflow-artifacts-capstone-mlops/5/c23904aef6314fb499be6077aad00cb9/artifacts/xgboost_model', status='READY', status_message='', tags={}, user_id='', version='1'>"
      ]
     },
     "execution_count": 8,
     "metadata": {},
     "output_type": "execute_result"
    }
   ],
   "source": [
    "# Transition the model version to 'Staging'\n",
    "model_version = latest_versions[-1].version\n",
    "client.transition_model_version_stage(\n",
    "    name=model_name,\n",
    "    version=model_version,\n",
    "    stage=\"Staging\"\n",
    ")"
   ]
  },
  {
   "cell_type": "code",
   "execution_count": 9,
   "metadata": {},
   "outputs": [
    {
     "data": {
      "text/plain": [
       "<ModelVersion: aliases=[], creation_timestamp=1722119360050, current_stage='Staging', description='The model version 1 was transitioned to Staging on 2024-07-27', last_updated_timestamp=1722119381898, name='car-price-regressor-xgboost', run_id='c23904aef6314fb499be6077aad00cb9', run_link='', source='s3://mlflow-artifacts-capstone-mlops/5/c23904aef6314fb499be6077aad00cb9/artifacts/xgboost_model', status='READY', status_message='', tags={}, user_id='', version='1'>"
      ]
     },
     "execution_count": 9,
     "metadata": {},
     "output_type": "execute_result"
    }
   ],
   "source": [
    "# Update model version description\n",
    "date = datetime.now().strftime(\"%Y-%m-%d\")\n",
    "client.update_model_version(\n",
    "    name=model_name,\n",
    "    version=model_version,\n",
    "    description=f\"The model version {model_version} was transitioned to Staging on {date}\"\n",
    ")\n"
   ]
  },
  {
   "cell_type": "code",
   "execution_count": 10,
   "metadata": {},
   "outputs": [
    {
     "name": "stderr",
     "output_type": "stream",
     "text": [
      "Downloading artifacts: 100%|██████████| 5/5 [00:01<00:00,  2.58it/s]\n"
     ]
    }
   ],
   "source": [
    "# Load model as a PyFuncModel\n",
    "logged_model = f\"runs:/{run_id}/xgboost_model\"\n",
    "loaded_model = mlflow.pyfunc.load_model(logged_model)"
   ]
  },
  {
   "cell_type": "code",
   "execution_count": 16,
   "metadata": {},
   "outputs": [
    {
     "name": "stdout",
     "output_type": "stream",
     "text": [
      "[29345.2   25230.064 25230.064 ... 27297.492 31060.291 31060.291]\n",
      "RMSE: 14554.494803132142\n"
     ]
    }
   ],
   "source": [
    "# Predict on a Pandas DataFrame\n",
    "data = pd.read_csv('../data/cleaned_car_data.csv')\n",
    "X = data.drop(columns=['price'])\n",
    "predictions = loaded_model.predict(X)\n",
    "print(predictions)\n",
    "\n",
    "y=data['price']\n",
    "rmse = root_mean_squared_error(y, predictions)\n",
    "print(f\"RMSE: {rmse}\")"
   ]
  },
  {
   "cell_type": "code",
   "execution_count": 17,
   "metadata": {},
   "outputs": [
    {
     "name": "stderr",
     "output_type": "stream",
     "text": [
      "/tmp/ipykernel_68361/4041264306.py:3: FutureWarning: ``mlflow.tracking.client.MlflowClient.transition_model_version_stage`` is deprecated since 2.9.0. Model registry stages will be removed in a future major release. To learn more about the deprecation of model registry stages, see our migration guide here: https://mlflow.org/docs/latest/model-registry.html#migrating-from-stages\n",
      "  client.transition_model_version_stage(\n"
     ]
    },
    {
     "data": {
      "text/plain": [
       "<ModelVersion: aliases=[], creation_timestamp=1722119360050, current_stage='Production', description='The model version 1 was transitioned to Staging on 2024-07-27', last_updated_timestamp=1722120092542, name='car-price-regressor-xgboost', run_id='c23904aef6314fb499be6077aad00cb9', run_link='', source='s3://mlflow-artifacts-capstone-mlops/5/c23904aef6314fb499be6077aad00cb9/artifacts/xgboost_model', status='READY', status_message='', tags={}, user_id='', version='1'>"
      ]
     },
     "execution_count": 17,
     "metadata": {},
     "output_type": "execute_result"
    }
   ],
   "source": [
    "# Transition the model version to 'Production'\n",
    "model_version = latest_versions[-1].version\n",
    "client.transition_model_version_stage(\n",
    "    name=model_name,\n",
    "    version=model_version,\n",
    "    stage=\"Production\"\n",
    ")\n"
   ]
  },
  {
   "cell_type": "code",
   "execution_count": 18,
   "metadata": {},
   "outputs": [
    {
     "data": {
      "text/plain": [
       "<ModelVersion: aliases=[], creation_timestamp=1722119360050, current_stage='Production', description='The model version 1 was transitioned to Production on 2024-07-27', last_updated_timestamp=1722120105706, name='car-price-regressor-xgboost', run_id='c23904aef6314fb499be6077aad00cb9', run_link='', source='s3://mlflow-artifacts-capstone-mlops/5/c23904aef6314fb499be6077aad00cb9/artifacts/xgboost_model', status='READY', status_message='', tags={}, user_id='', version='1'>"
      ]
     },
     "execution_count": 18,
     "metadata": {},
     "output_type": "execute_result"
    }
   ],
   "source": [
    "# Update model version description\n",
    "date = datetime.now().strftime(\"%Y-%m-%d\")\n",
    "client.update_model_version(\n",
    "    name=model_name,\n",
    "    version=model_version,\n",
    "    description=f\"The model version {model_version} was transitioned to Production on {date}\"\n",
    ")"
   ]
  },
  {
   "cell_type": "code",
   "execution_count": null,
   "metadata": {},
   "outputs": [],
   "source": []
  }
 ],
 "metadata": {
  "kernelspec": {
   "display_name": "Python 3",
   "language": "python",
   "name": "python3"
  },
  "language_info": {
   "codemirror_mode": {
    "name": "ipython",
    "version": 3
   },
   "file_extension": ".py",
   "mimetype": "text/x-python",
   "name": "python",
   "nbconvert_exporter": "python",
   "pygments_lexer": "ipython3",
   "version": "3.10.13"
  }
 },
 "nbformat": 4,
 "nbformat_minor": 2
}
